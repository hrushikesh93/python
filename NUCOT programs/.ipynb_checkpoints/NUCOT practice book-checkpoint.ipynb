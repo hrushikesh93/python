{
 "cells": [
  {
   "cell_type": "code",
   "execution_count": 1,
   "id": "1aff0791",
   "metadata": {},
   "outputs": [],
   "source": [
    "import numpy as np\n",
    "a = np.array([[1,2,3],\n",
    "              [4,5,6],\n",
    "              [7,8,9]])"
   ]
  },
  {
   "cell_type": "code",
   "execution_count": 2,
   "id": "3e2f0d41",
   "metadata": {},
   "outputs": [
    {
     "data": {
      "text/plain": [
       "array([[1, 2, 3],\n",
       "       [4, 5, 6],\n",
       "       [7, 8, 9]])"
      ]
     },
     "execution_count": 2,
     "metadata": {},
     "output_type": "execute_result"
    }
   ],
   "source": [
    "a"
   ]
  },
  {
   "cell_type": "code",
   "execution_count": 3,
   "id": "f2192314",
   "metadata": {},
   "outputs": [
    {
     "data": {
      "text/plain": [
       "784"
      ]
     },
     "execution_count": 3,
     "metadata": {},
     "output_type": "execute_result"
    }
   ],
   "source": [
    "28*28"
   ]
  },
  {
   "cell_type": "code",
   "execution_count": 4,
   "id": "2c8f051b",
   "metadata": {},
   "outputs": [],
   "source": [
    "a=3\n",
    "b=9"
   ]
  },
  {
   "cell_type": "code",
   "execution_count": 5,
   "id": "e56773d3",
   "metadata": {},
   "outputs": [
    {
     "data": {
      "text/plain": [
       "'mharshrushi93@gmail.com'"
      ]
     },
     "execution_count": 5,
     "metadata": {},
     "output_type": "execute_result"
    }
   ],
   "source": [
    "# lambda function\n",
    "\n",
    "#  variable = lambda <parameter>: statement\n",
    "\n",
    "\n",
    "rev= lambda x: x.lower()[::-1]\n",
    "rev('moc.liamg'+'@'+str(a)+str(b)+'ihsurhsrahm')"
   ]
  },
  {
   "cell_type": "code",
   "execution_count": 6,
   "id": "63f50df6",
   "metadata": {},
   "outputs": [
    {
     "data": {
      "text/plain": [
       "'moc.liamg@39ihsurhsrahm'"
      ]
     },
     "execution_count": 6,
     "metadata": {},
     "output_type": "execute_result"
    }
   ],
   "source": [
    "\"mharshrushi93@gmail.com\"[::-1]"
   ]
  },
  {
   "cell_type": "markdown",
   "id": "d975913b",
   "metadata": {},
   "source": [
    "## basics"
   ]
  },
  {
   "cell_type": "code",
   "execution_count": 7,
   "id": "f9481f49",
   "metadata": {},
   "outputs": [],
   "source": [
    "name = 'hrushi'"
   ]
  },
  {
   "cell_type": "code",
   "execution_count": 8,
   "id": "d2a7c5e9",
   "metadata": {},
   "outputs": [
    {
     "data": {
      "text/plain": [
       "'hrushihrushi'"
      ]
     },
     "execution_count": 8,
     "metadata": {},
     "output_type": "execute_result"
    }
   ],
   "source": [
    "name*2"
   ]
  },
  {
   "cell_type": "code",
   "execution_count": 9,
   "id": "cd05ccf7",
   "metadata": {},
   "outputs": [
    {
     "data": {
      "text/plain": [
       "str"
      ]
     },
     "execution_count": 9,
     "metadata": {},
     "output_type": "execute_result"
    }
   ],
   "source": [
    "type (name)"
   ]
  },
  {
   "cell_type": "code",
   "execution_count": 10,
   "id": "98084f3f",
   "metadata": {},
   "outputs": [
    {
     "data": {
      "text/plain": [
       "'HRUSHI'"
      ]
     },
     "execution_count": 10,
     "metadata": {},
     "output_type": "execute_result"
    }
   ],
   "source": [
    "name.upper()"
   ]
  },
  {
   "cell_type": "code",
   "execution_count": 11,
   "id": "0bf42960",
   "metadata": {},
   "outputs": [
    {
     "data": {
      "text/plain": [
       "['h', 'r', 'u', 's', 'h', 'i']"
      ]
     },
     "execution_count": 11,
     "metadata": {},
     "output_type": "execute_result"
    }
   ],
   "source": [
    "list(name)"
   ]
  },
  {
   "cell_type": "code",
   "execution_count": 12,
   "id": "70024594",
   "metadata": {},
   "outputs": [
    {
     "data": {
      "text/plain": [
       "'hrushi'"
      ]
     },
     "execution_count": 12,
     "metadata": {},
     "output_type": "execute_result"
    }
   ],
   "source": [
    "name"
   ]
  },
  {
   "cell_type": "code",
   "execution_count": 13,
   "id": "0294b21a",
   "metadata": {},
   "outputs": [],
   "source": [
    "name= list(name)"
   ]
  },
  {
   "cell_type": "code",
   "execution_count": 14,
   "id": "48d012c3",
   "metadata": {},
   "outputs": [
    {
     "data": {
      "text/plain": [
       "['h', 'r', 'u', 's', 'h', 'i']"
      ]
     },
     "execution_count": 14,
     "metadata": {},
     "output_type": "execute_result"
    }
   ],
   "source": [
    "name"
   ]
  },
  {
   "cell_type": "code",
   "execution_count": 15,
   "id": "75c2b6bb",
   "metadata": {},
   "outputs": [
    {
     "data": {
      "text/plain": [
       "'h r u s h i'"
      ]
     },
     "execution_count": 15,
     "metadata": {},
     "output_type": "execute_result"
    }
   ],
   "source": [
    "' '.join(name) "
   ]
  },
  {
   "cell_type": "code",
   "execution_count": 16,
   "id": "29d016ac",
   "metadata": {},
   "outputs": [],
   "source": [
    "l=[]\n",
    "for x in name:\n",
    "    if x == ' ':\n",
    "        pass\n",
    "    else:\n",
    "        l.append(x)"
   ]
  },
  {
   "cell_type": "code",
   "execution_count": 17,
   "id": "696f74e2",
   "metadata": {},
   "outputs": [
    {
     "data": {
      "text/plain": [
       "['h', 'r', 'u', 's', 'h', 'i']"
      ]
     },
     "execution_count": 17,
     "metadata": {},
     "output_type": "execute_result"
    }
   ],
   "source": [
    "l"
   ]
  },
  {
   "cell_type": "code",
   "execution_count": 18,
   "id": "24558951",
   "metadata": {},
   "outputs": [
    {
     "data": {
      "text/plain": [
       "'hrushi'"
      ]
     },
     "execution_count": 18,
     "metadata": {},
     "output_type": "execute_result"
    }
   ],
   "source": [
    "''.join(name)"
   ]
  },
  {
   "cell_type": "code",
   "execution_count": 19,
   "id": "fc3d9af7",
   "metadata": {},
   "outputs": [
    {
     "data": {
      "text/plain": [
       "'hrushi'"
      ]
     },
     "execution_count": 19,
     "metadata": {},
     "output_type": "execute_result"
    }
   ],
   "source": [
    "name = ''.join(name)\n",
    "name"
   ]
  },
  {
   "cell_type": "code",
   "execution_count": 20,
   "id": "fce3f0bd",
   "metadata": {},
   "outputs": [
    {
     "data": {
      "text/plain": [
       "['h', 'r', 'u', 's', 'h', 'i']"
      ]
     },
     "execution_count": 20,
     "metadata": {},
     "output_type": "execute_result"
    }
   ],
   "source": [
    "l"
   ]
  },
  {
   "cell_type": "code",
   "execution_count": 21,
   "id": "241e13d9",
   "metadata": {},
   "outputs": [
    {
     "data": {
      "text/plain": [
       "'i'"
      ]
     },
     "execution_count": 21,
     "metadata": {},
     "output_type": "execute_result"
    }
   ],
   "source": [
    "l.pop()"
   ]
  },
  {
   "cell_type": "code",
   "execution_count": 22,
   "id": "0e387ae8",
   "metadata": {},
   "outputs": [
    {
     "data": {
      "text/plain": [
       "['h', 'r', 'u', 's', 'h']"
      ]
     },
     "execution_count": 22,
     "metadata": {},
     "output_type": "execute_result"
    }
   ],
   "source": [
    "l"
   ]
  },
  {
   "cell_type": "code",
   "execution_count": 23,
   "id": "0babd4ea",
   "metadata": {},
   "outputs": [],
   "source": [
    "#l.pop(5)"
   ]
  },
  {
   "cell_type": "code",
   "execution_count": 24,
   "id": "8d8da569",
   "metadata": {},
   "outputs": [
    {
     "data": {
      "text/plain": [
       "['h', 'r', 'u', 's', 'h']"
      ]
     },
     "execution_count": 24,
     "metadata": {},
     "output_type": "execute_result"
    }
   ],
   "source": [
    "l"
   ]
  },
  {
   "cell_type": "code",
   "execution_count": 25,
   "id": "95266e2f",
   "metadata": {},
   "outputs": [],
   "source": [
    "name = [[2,3,4,4,5],[3,4,5,6,7]]"
   ]
  },
  {
   "cell_type": "code",
   "execution_count": 26,
   "id": "c252a9d9",
   "metadata": {},
   "outputs": [
    {
     "data": {
      "text/plain": [
       "[[2, 3, 4, 4, 5], [3, 4, 5, 6, 7]]"
      ]
     },
     "execution_count": 26,
     "metadata": {},
     "output_type": "execute_result"
    }
   ],
   "source": [
    "name"
   ]
  },
  {
   "cell_type": "code",
   "execution_count": 27,
   "id": "6029a23d",
   "metadata": {},
   "outputs": [],
   "source": [
    "import numpy as np"
   ]
  },
  {
   "cell_type": "code",
   "execution_count": 28,
   "id": "258564b4",
   "metadata": {},
   "outputs": [
    {
     "data": {
      "text/plain": [
       "array([[2, 3, 4, 4, 5],\n",
       "       [3, 4, 5, 6, 7]])"
      ]
     },
     "execution_count": 28,
     "metadata": {},
     "output_type": "execute_result"
    }
   ],
   "source": [
    "name2=np.array(name)\n",
    "name2"
   ]
  },
  {
   "cell_type": "code",
   "execution_count": 33,
   "id": "6f320a25",
   "metadata": {},
   "outputs": [
    {
     "data": {
      "text/plain": [
       "array([[4, 4],\n",
       "       [5, 6]])"
      ]
     },
     "execution_count": 33,
     "metadata": {},
     "output_type": "execute_result"
    }
   ],
   "source": [
    "name2[:2,2:4]"
   ]
  },
  {
   "cell_type": "markdown",
   "id": "c8a70547",
   "metadata": {},
   "source": [
    "## oops concept"
   ]
  },
  {
   "cell_type": "code",
   "execution_count": 30,
   "id": "c9fe0776",
   "metadata": {},
   "outputs": [
    {
     "name": "stdout",
     "output_type": "stream",
     "text": [
      "there are many kinds of birds\n",
      "some can fly some can't\n",
      "different birds make different sound\n",
      "there are many kinds of birds\n",
      "sparrow can fly\n",
      "chirp chirp\n",
      "there are many kinds of birds\n",
      "ostrich can't fly\n",
      "wahhh wahh\n"
     ]
    }
   ],
   "source": [
    "# polymorphism\n",
    "\n",
    "\n",
    "class bird:\n",
    "    def intro(self):\n",
    "        print(\"there are many kinds of birds\")\n",
    "    def flight(self):\n",
    "        print(\"some can fly some can't\")\n",
    "    def sound(self):\n",
    "        print(\"different birds make different sound\")\n",
    "        \n",
    "class sparrow(bird):\n",
    "    def flight(self):\n",
    "        print(\"sparrow can fly\")\n",
    "    def sound(self):\n",
    "        print(\"chirp chirp\")\n",
    "        \n",
    "class ostrich(bird):\n",
    "    def flight(self):\n",
    "        print(\"ostrich can't fly\")\n",
    "    def sound(self):\n",
    "        print(\"wahhh wahh\")\n",
    "        \n",
    "obj_bird = bird()\n",
    "obj_sparrow = sparrow()\n",
    "obj_ostrich = ostrich()\n",
    "\n",
    "obj_bird.intro()\n",
    "obj_bird.flight()\n",
    "obj_bird.sound()\n",
    "\n",
    "obj_sparrow.intro()\n",
    "obj_sparrow.flight()\n",
    "obj_sparrow.sound()\n",
    "\n",
    "obj_ostrich.intro()\n",
    "obj_ostrich.flight()\n",
    "obj_ostrich.sound()"
   ]
  },
  {
   "cell_type": "code",
   "execution_count": 31,
   "id": "78c79d46",
   "metadata": {},
   "outputs": [
    {
     "name": "stdout",
     "output_type": "stream",
     "text": [
      "sekiro has no bow but\n",
      "genichiro has both sword and  lightning power\n"
     ]
    }
   ],
   "source": [
    "# inheritance\n",
    "\n",
    "\n",
    "class demon:\n",
    "    def quality(self,name,power):\n",
    "        self.name = name\n",
    "        self.power = power\n",
    "        print(self.name,\"has both sword and \",self.power)\n",
    "\n",
    "class human(demon):\n",
    "    def quality(self,name,power,weapon):\n",
    "        self.weapon =weapon\n",
    "        print(\"sekiro has no\",self.weapon,'but')\n",
    "        \n",
    "        demon.quality(self,name,power)\n",
    "        \n",
    "obj2 = human()\n",
    "obj2.quality('genichiro','lightning power','bow')"
   ]
  },
  {
   "cell_type": "code",
   "execution_count": 40,
   "id": "79c54f78",
   "metadata": {},
   "outputs": [
    {
     "name": "stdout",
     "output_type": "stream",
     "text": [
      "\n",
      " warm\n"
     ]
    },
    {
     "ename": "AttributeError",
     "evalue": "'birds' object has no attribute 'breed'",
     "output_type": "error",
     "traceback": [
      "\u001b[1;31m---------------------------------------------------------------------------\u001b[0m",
      "\u001b[1;31mAttributeError\u001b[0m                            Traceback (most recent call last)",
      "\u001b[1;32m~\\AppData\\Local\\Temp/ipykernel_25632/431074761.py\u001b[0m in \u001b[0;36m<module>\u001b[1;34m\u001b[0m\n\u001b[0;32m     14\u001b[0m \u001b[1;33m\u001b[0m\u001b[0m\n\u001b[0;32m     15\u001b[0m \u001b[0mobj\u001b[0m \u001b[1;33m=\u001b[0m \u001b[0mbirds\u001b[0m\u001b[1;33m(\u001b[0m\u001b[1;33m)\u001b[0m\u001b[1;33m\u001b[0m\u001b[1;33m\u001b[0m\u001b[0m\n\u001b[1;32m---> 16\u001b[1;33m \u001b[0mobj\u001b[0m\u001b[1;33m.\u001b[0m\u001b[0mariel\u001b[0m\u001b[1;33m(\u001b[0m\u001b[1;34m'warm'\u001b[0m\u001b[1;33m)\u001b[0m\u001b[1;33m\u001b[0m\u001b[1;33m\u001b[0m\u001b[0m\n\u001b[0m\u001b[0;32m     17\u001b[0m \u001b[1;33m\u001b[0m\u001b[0m\n\u001b[0;32m     18\u001b[0m \u001b[1;33m\u001b[0m\u001b[0m\n",
      "\u001b[1;32m~\\AppData\\Local\\Temp/ipykernel_25632/431074761.py\u001b[0m in \u001b[0;36mariel\u001b[1;34m(self, bloodtype)\u001b[0m\n\u001b[0;32m     11\u001b[0m         \u001b[0mself\u001b[0m\u001b[1;33m.\u001b[0m\u001b[0mbloodtype\u001b[0m \u001b[1;33m=\u001b[0m \u001b[0mbloodtype\u001b[0m\u001b[1;33m\u001b[0m\u001b[1;33m\u001b[0m\u001b[0m\n\u001b[0;32m     12\u001b[0m         \u001b[0mprint\u001b[0m\u001b[1;33m(\u001b[0m\u001b[1;34m'\\n'\u001b[0m\u001b[1;33m,\u001b[0m\u001b[0mself\u001b[0m\u001b[1;33m.\u001b[0m\u001b[0mbloodtype\u001b[0m\u001b[1;33m)\u001b[0m\u001b[1;33m\u001b[0m\u001b[1;33m\u001b[0m\u001b[0m\n\u001b[1;32m---> 13\u001b[1;33m         \u001b[0mprint\u001b[0m\u001b[1;33m(\u001b[0m\u001b[0mself\u001b[0m\u001b[1;33m.\u001b[0m\u001b[0mbreed\u001b[0m\u001b[1;33m)\u001b[0m\u001b[1;33m\u001b[0m\u001b[1;33m\u001b[0m\u001b[0m\n\u001b[0m\u001b[0;32m     14\u001b[0m \u001b[1;33m\u001b[0m\u001b[0m\n\u001b[0;32m     15\u001b[0m \u001b[0mobj\u001b[0m \u001b[1;33m=\u001b[0m \u001b[0mbirds\u001b[0m\u001b[1;33m(\u001b[0m\u001b[1;33m)\u001b[0m\u001b[1;33m\u001b[0m\u001b[1;33m\u001b[0m\u001b[0m\n",
      "\u001b[1;31mAttributeError\u001b[0m: 'birds' object has no attribute 'breed'"
     ]
    }
   ],
   "source": [
    "# encapsulation\n",
    "\n",
    "class dog:\n",
    "    def animal(self,typee,breed):\n",
    "        self.typee = typee\n",
    "        self.breed = breed\n",
    "        print('this animal is',self.typee,'\\nand breed of',self.breed)\n",
    "\n",
    "class birds(dog):\n",
    "    def ariel(self,bloodtype):\n",
    "        self.bloodtype = bloodtype\n",
    "        print('\\n',self.bloodtype)\n",
    "        print(self.breed)\n",
    "        \n",
    "obj = birds()\n",
    "obj.ariel('warm')\n",
    "\n",
    "\n",
    "\n",
    "# the error shows that that attribute cannot be taken from birds class because it is a private data belonging to dog."
   ]
  },
  {
   "cell_type": "code",
   "execution_count": 42,
   "id": "9b276d14",
   "metadata": {},
   "outputs": [
    {
     "name": "stdout",
     "output_type": "stream",
     "text": [
      "GeeksforGeeks\n"
     ]
    },
    {
     "ename": "AttributeError",
     "evalue": "'Base' object has no attribute 'c'",
     "output_type": "error",
     "traceback": [
      "\u001b[1;31m---------------------------------------------------------------------------\u001b[0m",
      "\u001b[1;31mAttributeError\u001b[0m                            Traceback (most recent call last)",
      "\u001b[1;32m~\\AppData\\Local\\Temp/ipykernel_25632/2612361981.py\u001b[0m in \u001b[0;36m<module>\u001b[1;34m\u001b[0m\n\u001b[0;32m     23\u001b[0m \u001b[0mprint\u001b[0m\u001b[1;33m(\u001b[0m\u001b[0mobj1\u001b[0m\u001b[1;33m.\u001b[0m\u001b[0ma\u001b[0m\u001b[1;33m)\u001b[0m\u001b[1;33m\u001b[0m\u001b[1;33m\u001b[0m\u001b[0m\n\u001b[0;32m     24\u001b[0m \u001b[1;33m\u001b[0m\u001b[0m\n\u001b[1;32m---> 25\u001b[1;33m \u001b[0mprint\u001b[0m\u001b[1;33m(\u001b[0m\u001b[0mobj1\u001b[0m\u001b[1;33m.\u001b[0m\u001b[0mc\u001b[0m\u001b[1;33m)\u001b[0m\u001b[1;33m\u001b[0m\u001b[1;33m\u001b[0m\u001b[0m\n\u001b[0m\u001b[0;32m     26\u001b[0m \u001b[1;31m# raise an AttributeError\u001b[0m\u001b[1;33m\u001b[0m\u001b[1;33m\u001b[0m\u001b[1;33m\u001b[0m\u001b[0m\n\u001b[0;32m     27\u001b[0m \u001b[1;33m\u001b[0m\u001b[0m\n",
      "\u001b[1;31mAttributeError\u001b[0m: 'Base' object has no attribute 'c'"
     ]
    }
   ],
   "source": [
    "# Python program to\n",
    "# demonstrate private members\n",
    "\n",
    "# Creating a Base class\n",
    "class Base:\n",
    "\tdef __init__(self):\n",
    "\t\tself.a = \"GeeksforGeeks\"\n",
    "\t\tself.__c = \"GeeksforGeeks\"\n",
    "\n",
    "# Creating a derived class\n",
    "class Derived(Base):\n",
    "\tdef __init__(self):\n",
    "\n",
    "\t\t# Calling constructor of\n",
    "\t\t# Base class\n",
    "\t\tBase.__init__(self)\n",
    "\t\tprint(\"Calling private member of base class: \")\n",
    "\t\tprint(self.__c)\n",
    "\n",
    "\n",
    "# Driver code\n",
    "obj1 = Base()\n",
    "print(obj1.a)\n",
    "\n",
    "# Uncommenting print(obj1.c) will\n",
    "# raise an AttributeError\n",
    "\n",
    "# Uncommenting obj2 = Derived() will\n",
    "# also raise an AtrributeError as\n",
    "# private member of base class\n",
    "# is called inside derived class\n"
   ]
  },
  {
   "cell_type": "code",
   "execution_count": null,
   "id": "def2c168",
   "metadata": {},
   "outputs": [],
   "source": [
    "import pandas as pd\n",
    "import matplotlib.pyplot as plt\n",
    "from sklearn.linear_model import LinearRegression"
   ]
  },
  {
   "cell_type": "code",
   "execution_count": null,
   "id": "a4d51f3c",
   "metadata": {},
   "outputs": [],
   "source": [
    "data = pd.read_csv('heart_disease_dataset.csv')\n",
    "data"
   ]
  },
  {
   "cell_type": "code",
   "execution_count": null,
   "id": "615ca260",
   "metadata": {},
   "outputs": [],
   "source": [
    "chol = data[['chol']]\n",
    "age = data[['age']]"
   ]
  },
  {
   "cell_type": "code",
   "execution_count": null,
   "id": "7caac67f",
   "metadata": {},
   "outputs": [],
   "source": [
    "lreg = LinearRegression()\n",
    "lreg.fit(chol,age)\n",
    "\n",
    "slope = lreg.coef_[0][0]*chol.values+lreg.intercept_[0]\n",
    "slope1 = lreg.predict(chol)"
   ]
  },
  {
   "cell_type": "code",
   "execution_count": null,
   "id": "f942eba0",
   "metadata": {},
   "outputs": [],
   "source": [
    "plt.figure(figsize=(14,6))\n",
    "plt.subplot(1,2,1)\n",
    "plt.scatter(chol,age)\n",
    "plt.plot(chol,slope)\n",
    "\n",
    "plt.subplot(1,2,2)\n",
    "plt.scatter(chol,age)\n",
    "plt.plot(chol,slope1)"
   ]
  }
 ],
 "metadata": {
  "kernelspec": {
   "display_name": "Python 3 (ipykernel)",
   "language": "python",
   "name": "python3"
  },
  "language_info": {
   "codemirror_mode": {
    "name": "ipython",
    "version": 3
   },
   "file_extension": ".py",
   "mimetype": "text/x-python",
   "name": "python",
   "nbconvert_exporter": "python",
   "pygments_lexer": "ipython3",
   "version": "3.9.5"
  }
 },
 "nbformat": 4,
 "nbformat_minor": 5
}
