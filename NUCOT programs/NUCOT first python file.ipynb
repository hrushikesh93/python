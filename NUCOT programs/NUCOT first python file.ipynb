{
 "cells": [
  {
   "cell_type": "markdown",
   "id": "af913c42",
   "metadata": {},
   "source": [
    "# pandas"
   ]
  },
  {
   "cell_type": "code",
   "execution_count": 1,
   "id": "bd76a74e",
   "metadata": {},
   "outputs": [
    {
     "data": {
      "text/html": [
       "<div>\n",
       "<style scoped>\n",
       "    .dataframe tbody tr th:only-of-type {\n",
       "        vertical-align: middle;\n",
       "    }\n",
       "\n",
       "    .dataframe tbody tr th {\n",
       "        vertical-align: top;\n",
       "    }\n",
       "\n",
       "    .dataframe thead th {\n",
       "        text-align: right;\n",
       "    }\n",
       "</style>\n",
       "<table border=\"1\" class=\"dataframe\">\n",
       "  <thead>\n",
       "    <tr style=\"text-align: right;\">\n",
       "      <th></th>\n",
       "      <th>Time_delay</th>\n",
       "      <th>Drug_ppm</th>\n",
       "      <th>Math_score</th>\n",
       "    </tr>\n",
       "  </thead>\n",
       "  <tbody>\n",
       "    <tr>\n",
       "      <th>0</th>\n",
       "      <td>5</td>\n",
       "      <td>1.17</td>\n",
       "      <td>78.93</td>\n",
       "    </tr>\n",
       "    <tr>\n",
       "      <th>1</th>\n",
       "      <td>15</td>\n",
       "      <td>2.97</td>\n",
       "      <td>58.20</td>\n",
       "    </tr>\n",
       "    <tr>\n",
       "      <th>2</th>\n",
       "      <td>30</td>\n",
       "      <td>3.26</td>\n",
       "      <td>67.47</td>\n",
       "    </tr>\n",
       "    <tr>\n",
       "      <th>3</th>\n",
       "      <td>60</td>\n",
       "      <td>4.69</td>\n",
       "      <td>37.47</td>\n",
       "    </tr>\n",
       "    <tr>\n",
       "      <th>4</th>\n",
       "      <td>120</td>\n",
       "      <td>5.83</td>\n",
       "      <td>45.65</td>\n",
       "    </tr>\n",
       "    <tr>\n",
       "      <th>5</th>\n",
       "      <td>240</td>\n",
       "      <td>6.00</td>\n",
       "      <td>32.92</td>\n",
       "    </tr>\n",
       "    <tr>\n",
       "      <th>6</th>\n",
       "      <td>480</td>\n",
       "      <td>6.41</td>\n",
       "      <td>29.97</td>\n",
       "    </tr>\n",
       "  </tbody>\n",
       "</table>\n",
       "</div>"
      ],
      "text/plain": [
       "   Time_delay  Drug_ppm  Math_score\n",
       "0           5      1.17       78.93\n",
       "1          15      2.97       58.20\n",
       "2          30      3.26       67.47\n",
       "3          60      4.69       37.47\n",
       "4         120      5.83       45.65\n",
       "5         240      6.00       32.92\n",
       "6         480      6.41       29.97"
      ]
     },
     "execution_count": 1,
     "metadata": {},
     "output_type": "execute_result"
    }
   ],
   "source": [
    "import pandas as pd\n",
    "from pandas import DataFrame\n",
    "\n",
    "df = pd.read_csv(\"lsd_math_score_data.csv\")\n",
    "df"
   ]
  },
  {
   "cell_type": "code",
   "execution_count": 2,
   "id": "c44611a9",
   "metadata": {},
   "outputs": [
    {
     "data": {
      "text/html": [
       "<div>\n",
       "<style scoped>\n",
       "    .dataframe tbody tr th:only-of-type {\n",
       "        vertical-align: middle;\n",
       "    }\n",
       "\n",
       "    .dataframe tbody tr th {\n",
       "        vertical-align: top;\n",
       "    }\n",
       "\n",
       "    .dataframe thead th {\n",
       "        text-align: right;\n",
       "    }\n",
       "</style>\n",
       "<table border=\"1\" class=\"dataframe\">\n",
       "  <thead>\n",
       "    <tr style=\"text-align: right;\">\n",
       "      <th></th>\n",
       "      <th>Time_delay</th>\n",
       "    </tr>\n",
       "  </thead>\n",
       "  <tbody>\n",
       "    <tr>\n",
       "      <th>0</th>\n",
       "      <td>5</td>\n",
       "    </tr>\n",
       "    <tr>\n",
       "      <th>1</th>\n",
       "      <td>15</td>\n",
       "    </tr>\n",
       "    <tr>\n",
       "      <th>2</th>\n",
       "      <td>30</td>\n",
       "    </tr>\n",
       "    <tr>\n",
       "      <th>3</th>\n",
       "      <td>60</td>\n",
       "    </tr>\n",
       "    <tr>\n",
       "      <th>4</th>\n",
       "      <td>120</td>\n",
       "    </tr>\n",
       "    <tr>\n",
       "      <th>5</th>\n",
       "      <td>240</td>\n",
       "    </tr>\n",
       "    <tr>\n",
       "      <th>6</th>\n",
       "      <td>480</td>\n",
       "    </tr>\n",
       "  </tbody>\n",
       "</table>\n",
       "</div>"
      ],
      "text/plain": [
       "   Time_delay\n",
       "0           5\n",
       "1          15\n",
       "2          30\n",
       "3          60\n",
       "4         120\n",
       "5         240\n",
       "6         480"
      ]
     },
     "execution_count": 2,
     "metadata": {},
     "output_type": "execute_result"
    }
   ],
   "source": [
    "time = df[['Time_delay']]\n",
    "drug = df[['Drug_ppm']]\n",
    "time"
   ]
  },
  {
   "cell_type": "code",
   "execution_count": 3,
   "id": "df9a04a0",
   "metadata": {},
   "outputs": [
    {
     "data": {
      "text/html": [
       "<div>\n",
       "<style scoped>\n",
       "    .dataframe tbody tr th:only-of-type {\n",
       "        vertical-align: middle;\n",
       "    }\n",
       "\n",
       "    .dataframe tbody tr th {\n",
       "        vertical-align: top;\n",
       "    }\n",
       "\n",
       "    .dataframe thead th {\n",
       "        text-align: right;\n",
       "    }\n",
       "</style>\n",
       "<table border=\"1\" class=\"dataframe\">\n",
       "  <thead>\n",
       "    <tr style=\"text-align: right;\">\n",
       "      <th></th>\n",
       "      <th>Drug_ppm</th>\n",
       "    </tr>\n",
       "  </thead>\n",
       "  <tbody>\n",
       "    <tr>\n",
       "      <th>0</th>\n",
       "      <td>1.17</td>\n",
       "    </tr>\n",
       "    <tr>\n",
       "      <th>1</th>\n",
       "      <td>2.97</td>\n",
       "    </tr>\n",
       "    <tr>\n",
       "      <th>2</th>\n",
       "      <td>3.26</td>\n",
       "    </tr>\n",
       "    <tr>\n",
       "      <th>3</th>\n",
       "      <td>4.69</td>\n",
       "    </tr>\n",
       "    <tr>\n",
       "      <th>4</th>\n",
       "      <td>5.83</td>\n",
       "    </tr>\n",
       "    <tr>\n",
       "      <th>5</th>\n",
       "      <td>6.00</td>\n",
       "    </tr>\n",
       "    <tr>\n",
       "      <th>6</th>\n",
       "      <td>6.41</td>\n",
       "    </tr>\n",
       "  </tbody>\n",
       "</table>\n",
       "</div>"
      ],
      "text/plain": [
       "   Drug_ppm\n",
       "0      1.17\n",
       "1      2.97\n",
       "2      3.26\n",
       "3      4.69\n",
       "4      5.83\n",
       "5      6.00\n",
       "6      6.41"
      ]
     },
     "execution_count": 3,
     "metadata": {},
     "output_type": "execute_result"
    }
   ],
   "source": [
    "drug"
   ]
  },
  {
   "cell_type": "markdown",
   "id": "c5fbc864",
   "metadata": {},
   "source": [
    "# plotting"
   ]
  },
  {
   "cell_type": "code",
   "execution_count": 4,
   "id": "9fc21454",
   "metadata": {
    "scrolled": true
   },
   "outputs": [
    {
     "data": {
      "image/png": "[encoded data removed]",
      "text/plain": [
       "<Figure size 432x288 with 1 Axes>"
      ]
     },
     "metadata": {
      "needs_background": "light"
     },
     "output_type": "display_data"
    }
   ],
   "source": [
    "# plotting\n",
    "\n",
    "import matplotlib.pyplot as plt\n",
    "import numpy\n",
    "\n",
    "plt.plot(time,drug, color = \"green\")\n",
    "plt.scatter(time,drug , color = \"red\")\n",
    "plt.xlabel(\"time\", color = \"blue\")\n",
    "plt.ylabel('drug ppm', color = \"blue\")\n",
    "plt.text(100,2,\"this is hrushikesh's plot\" , color = \"purple\")\n",
    "plt.grid()"
   ]
  },
  {
   "cell_type": "code",
   "execution_count": 5,
   "id": "ea955054",
   "metadata": {},
   "outputs": [
    {
     "data": {
      "image/png": "[encoded data removed]",
      "text/plain": [
       "<Figure size 432x288 with 1 Axes>"
      ]
     },
     "metadata": {
      "needs_background": "light"
     },
     "output_type": "display_data"
    }
   ],
   "source": [
    "import matplotlib.pyplot as plt\n",
    "import numpy\n",
    "\n",
    "plt.plot(time,df[['Math_score']], color = \"green\")\n",
    "plt.scatter(time,df[['Math_score']], color = \"red\")\n",
    "plt.xlabel(\"time\", color = \"blue\")\n",
    "plt.ylabel('drug ppm', color = \"blue\")\n",
    "plt.text(100,60,\"this is hrushikesh's plot\" , color = \"purple\")\n",
    "plt.grid()"
   ]
  },
  {
   "cell_type": "markdown",
   "id": "41e89d79",
   "metadata": {},
   "source": [
    "# numpy"
   ]
  },
  {
   "cell_type": "code",
   "execution_count": 6,
   "id": "5c18b1ef",
   "metadata": {},
   "outputs": [
    {
     "data": {
      "text/plain": [
       "'1.21.2'"
      ]
     },
     "execution_count": 6,
     "metadata": {},
     "output_type": "execute_result"
    }
   ],
   "source": [
    "import numpy as np\n",
    "\n",
    "np.__version__"
   ]
  },
  {
   "cell_type": "code",
   "execution_count": 7,
   "id": "2710c14e",
   "metadata": {},
   "outputs": [
    {
     "data": {
      "text/plain": [
       "array([1, 2, 3])"
      ]
     },
     "execution_count": 7,
     "metadata": {},
     "output_type": "execute_result"
    }
   ],
   "source": [
    "arr1 = np.array([1,2,3])\n",
    "arr1"
   ]
  },
  {
   "cell_type": "code",
   "execution_count": 8,
   "id": "09a87f2b",
   "metadata": {},
   "outputs": [
    {
     "data": {
      "text/plain": [
       "(3,)"
      ]
     },
     "execution_count": 8,
     "metadata": {},
     "output_type": "execute_result"
    }
   ],
   "source": [
    "arr1.shape"
   ]
  },
  {
   "cell_type": "code",
   "execution_count": 9,
   "id": "728b1851",
   "metadata": {},
   "outputs": [
    {
     "data": {
      "text/plain": [
       "(1, 3)"
      ]
     },
     "execution_count": 9,
     "metadata": {},
     "output_type": "execute_result"
    }
   ],
   "source": [
    "arr1 = np.array([[1,2,3]])\n",
    "arr1.shape"
   ]
  },
  {
   "cell_type": "code",
   "execution_count": 10,
   "id": "a89e416e",
   "metadata": {},
   "outputs": [
    {
     "name": "stdout",
     "output_type": "stream",
     "text": [
      "1 and 9\n"
     ]
    }
   ],
   "source": [
    "arr1 = np.array([[1,2,3],[4,5,6],[7,8,9]])\n",
    "print(arr1[0][0] ,'and', arr1[2][2])"
   ]
  },
  {
   "cell_type": "code",
   "execution_count": 11,
   "id": "82cc9e7f",
   "metadata": {},
   "outputs": [
    {
     "data": {
      "text/plain": [
       "array([0, 0, 0, 0, 0])"
      ]
     },
     "execution_count": 11,
     "metadata": {},
     "output_type": "execute_result"
    }
   ],
   "source": [
    "zero = np.zeros(5,dtype=int)\n",
    "zero"
   ]
  },
  {
   "cell_type": "code",
   "execution_count": 12,
   "id": "251a5e13",
   "metadata": {},
   "outputs": [
    {
     "data": {
      "text/plain": [
       "array([[1, 1, 1, 1, 1, 1],\n",
       "       [1, 1, 1, 1, 1, 1],\n",
       "       [1, 1, 1, 1, 1, 1],\n",
       "       [1, 1, 1, 1, 1, 1],\n",
       "       [1, 1, 1, 1, 1, 1]])"
      ]
     },
     "execution_count": 12,
     "metadata": {},
     "output_type": "execute_result"
    }
   ],
   "source": [
    "one = np.ones((5,6),dtype=int)\n",
    "one"
   ]
  },
  {
   "cell_type": "code",
   "execution_count": 13,
   "id": "2262e1e9",
   "metadata": {},
   "outputs": [
    {
     "data": {
      "text/plain": [
       "array([  0,   3,   6,   9,  12,  15,  18,  21,  24,  27,  30,  33,  36,\n",
       "        39,  42,  45,  48,  51,  54,  57,  60,  63,  66,  69,  72,  75,\n",
       "        78,  81,  84,  87,  90,  93,  96,  99, 102, 105, 108, 111, 114,\n",
       "       117])"
      ]
     },
     "execution_count": 13,
     "metadata": {},
     "output_type": "execute_result"
    }
   ],
   "source": [
    "ranges = np.arange(0,120 , step = 3)\n",
    "ranges"
   ]
  },
  {
   "cell_type": "code",
   "execution_count": 14,
   "id": "2f06ade1",
   "metadata": {},
   "outputs": [
    {
     "data": {
      "text/plain": [
       "array([[0.31097771, 0.44192349, 0.37310112, 0.12837621, 0.32000034],\n",
       "       [0.38243239, 0.70674516, 0.94307887, 0.1828638 , 0.93934154],\n",
       "       [0.53129798, 0.53912711, 0.15707192, 0.69075307, 0.06115123],\n",
       "       [0.27700497, 0.45253877, 0.76343293, 0.20541189, 0.82739438],\n",
       "       [0.54580664, 0.61408312, 0.90707425, 0.63497031, 0.32742383]])"
      ]
     },
     "execution_count": 14,
     "metadata": {},
     "output_type": "execute_result"
    }
   ],
   "source": [
    "rand = np.random.random((5,5))\n",
    "rand"
   ]
  },
  {
   "cell_type": "code",
   "execution_count": 15,
   "id": "ffba3430",
   "metadata": {},
   "outputs": [
    {
     "data": {
      "text/plain": [
       "0.6349703107050444"
      ]
     },
     "execution_count": 15,
     "metadata": {},
     "output_type": "execute_result"
    }
   ],
   "source": [
    "rand[4][3]"
   ]
  },
  {
   "cell_type": "code",
   "execution_count": 16,
   "id": "48b7a1ab",
   "metadata": {},
   "outputs": [
    {
     "data": {
      "text/plain": [
       "array([[15,  9, 11, 22],\n",
       "       [ 4,  0,  2, 10],\n",
       "       [16,  8,  0,  2],\n",
       "       [18, 10, 22,  8]])"
      ]
     },
     "execution_count": 16,
     "metadata": {},
     "output_type": "execute_result"
    }
   ],
   "source": [
    "randint = np.random.randint(0,25,(4,4))\n",
    "randint"
   ]
  },
  {
   "cell_type": "code",
   "execution_count": 17,
   "id": "6c69764f",
   "metadata": {},
   "outputs": [
    {
     "data": {
      "text/plain": [
       "array([['linear algebra', 'differencial calculus'],\n",
       "       ['quantum phisics', 'solid dynamics']], dtype='<U21')"
      ]
     },
     "execution_count": 17,
     "metadata": {},
     "output_type": "execute_result"
    }
   ],
   "source": [
    "topics = np.array([['linear algebra','differencial calculus'],['quantum phisics','solid dynamics']])\n",
    "topics"
   ]
  },
  {
   "cell_type": "code",
   "execution_count": 18,
   "id": "8b149d27",
   "metadata": {},
   "outputs": [
    {
     "data": {
      "text/html": [
       "<div>\n",
       "<style scoped>\n",
       "    .dataframe tbody tr th:only-of-type {\n",
       "        vertical-align: middle;\n",
       "    }\n",
       "\n",
       "    .dataframe tbody tr th {\n",
       "        vertical-align: top;\n",
       "    }\n",
       "\n",
       "    .dataframe thead th {\n",
       "        text-align: right;\n",
       "    }\n",
       "</style>\n",
       "<table border=\"1\" class=\"dataframe\">\n",
       "  <thead>\n",
       "    <tr style=\"text-align: right;\">\n",
       "      <th></th>\n",
       "      <th>0</th>\n",
       "      <th>1</th>\n",
       "    </tr>\n",
       "  </thead>\n",
       "  <tbody>\n",
       "    <tr>\n",
       "      <th>0</th>\n",
       "      <td>linear algebra</td>\n",
       "      <td>differencial calculus</td>\n",
       "    </tr>\n",
       "    <tr>\n",
       "      <th>1</th>\n",
       "      <td>quantum phisics</td>\n",
       "      <td>solid dynamics</td>\n",
       "    </tr>\n",
       "  </tbody>\n",
       "</table>\n",
       "</div>"
      ],
      "text/plain": [
       "                 0                      1\n",
       "0   linear algebra  differencial calculus\n",
       "1  quantum phisics         solid dynamics"
      ]
     },
     "execution_count": 18,
     "metadata": {},
     "output_type": "execute_result"
    }
   ],
   "source": [
    "mydf = pd.DataFrame(data = topics)\n",
    "mydf"
   ]
  },
  {
   "cell_type": "code",
   "execution_count": 19,
   "id": "1c25313a",
   "metadata": {},
   "outputs": [
    {
     "data": {
      "text/html": [
       "<div>\n",
       "<style scoped>\n",
       "    .dataframe tbody tr th:only-of-type {\n",
       "        vertical-align: middle;\n",
       "    }\n",
       "\n",
       "    .dataframe tbody tr th {\n",
       "        vertical-align: top;\n",
       "    }\n",
       "\n",
       "    .dataframe thead th {\n",
       "        text-align: right;\n",
       "    }\n",
       "</style>\n",
       "<table border=\"1\" class=\"dataframe\">\n",
       "  <thead>\n",
       "    <tr style=\"text-align: right;\">\n",
       "      <th></th>\n",
       "      <th>c1</th>\n",
       "      <th>c2</th>\n",
       "    </tr>\n",
       "  </thead>\n",
       "  <tbody>\n",
       "    <tr>\n",
       "      <th>r1</th>\n",
       "      <td>linear algebra</td>\n",
       "      <td>differencial calculus</td>\n",
       "    </tr>\n",
       "    <tr>\n",
       "      <th>r2</th>\n",
       "      <td>quantum phisics</td>\n",
       "      <td>solid dynamics</td>\n",
       "    </tr>\n",
       "  </tbody>\n",
       "</table>\n",
       "</div>"
      ],
      "text/plain": [
       "                 c1                     c2\n",
       "r1   linear algebra  differencial calculus\n",
       "r2  quantum phisics         solid dynamics"
      ]
     },
     "execution_count": 19,
     "metadata": {},
     "output_type": "execute_result"
    }
   ],
   "source": [
    "mydf = pd.DataFrame(data = topics, index = ['r1','r2'], columns=['c1','c2'])\n",
    "mydf"
   ]
  },
  {
   "cell_type": "code",
   "execution_count": 20,
   "id": "765fe80a",
   "metadata": {},
   "outputs": [],
   "source": [
    "subjects = np.array([['maths','science'],['social','network'],['algorithms','machine learning']])"
   ]
  },
  {
   "cell_type": "code",
   "execution_count": 21,
   "id": "44e519cb",
   "metadata": {},
   "outputs": [],
   "source": [
    "# axis = 0     ----> rows\n",
    "# axis = 1     ----> columns"
   ]
  },
  {
   "cell_type": "code",
   "execution_count": 22,
   "id": "d1fcbe30",
   "metadata": {},
   "outputs": [
    {
     "data": {
      "text/plain": [
       "array(['maths', 'science', 'social', 'network', 'algorithms',\n",
       "       'machine learning', 'linear algebra', 'differencial calculus',\n",
       "       'quantum phisics', 'solid dynamics'], dtype='<U21')"
      ]
     },
     "execution_count": 22,
     "metadata": {},
     "output_type": "execute_result"
    }
   ],
   "source": [
    "learning = np.append(arr = subjects , values = topics)\n",
    "learning"
   ]
  },
  {
   "cell_type": "code",
   "execution_count": 23,
   "id": "37799f47",
   "metadata": {},
   "outputs": [
    {
     "data": {
      "text/plain": [
       "array([['maths', 'science'],\n",
       "       ['social', 'network'],\n",
       "       ['algorithms', 'machine learning'],\n",
       "       ['linear algebra', 'differencial calculus'],\n",
       "       ['quantum phisics', 'solid dynamics']], dtype='<U21')"
      ]
     },
     "execution_count": 23,
     "metadata": {},
     "output_type": "execute_result"
    }
   ],
   "source": [
    "learning = np.append(arr = subjects , values = topics , axis=0)\n",
    "learning"
   ]
  },
  {
   "cell_type": "code",
   "execution_count": 24,
   "id": "8596d9b2",
   "metadata": {},
   "outputs": [
    {
     "data": {
      "text/html": [
       "<div>\n",
       "<style scoped>\n",
       "    .dataframe tbody tr th:only-of-type {\n",
       "        vertical-align: middle;\n",
       "    }\n",
       "\n",
       "    .dataframe tbody tr th {\n",
       "        vertical-align: top;\n",
       "    }\n",
       "\n",
       "    .dataframe thead th {\n",
       "        text-align: right;\n",
       "    }\n",
       "</style>\n",
       "<table border=\"1\" class=\"dataframe\">\n",
       "  <thead>\n",
       "    <tr style=\"text-align: right;\">\n",
       "      <th></th>\n",
       "      <th>c1</th>\n",
       "      <th>c2</th>\n",
       "    </tr>\n",
       "  </thead>\n",
       "  <tbody>\n",
       "    <tr>\n",
       "      <th>r1</th>\n",
       "      <td>maths</td>\n",
       "      <td>science</td>\n",
       "    </tr>\n",
       "    <tr>\n",
       "      <th>r2</th>\n",
       "      <td>social</td>\n",
       "      <td>network</td>\n",
       "    </tr>\n",
       "    <tr>\n",
       "      <th>r3</th>\n",
       "      <td>algorithms</td>\n",
       "      <td>machine learning</td>\n",
       "    </tr>\n",
       "    <tr>\n",
       "      <th>r4</th>\n",
       "      <td>linear algebra</td>\n",
       "      <td>differencial calculus</td>\n",
       "    </tr>\n",
       "    <tr>\n",
       "      <th>r5</th>\n",
       "      <td>quantum phisics</td>\n",
       "      <td>solid dynamics</td>\n",
       "    </tr>\n",
       "  </tbody>\n",
       "</table>\n",
       "</div>"
      ],
      "text/plain": [
       "                 c1                     c2\n",
       "r1            maths                science\n",
       "r2           social                network\n",
       "r3       algorithms       machine learning\n",
       "r4   linear algebra  differencial calculus\n",
       "r5  quantum phisics         solid dynamics"
      ]
     },
     "execution_count": 24,
     "metadata": {},
     "output_type": "execute_result"
    }
   ],
   "source": [
    "mydf1 = pd.DataFrame(data = learning, index=['r1','r2','r3','r4','r5'],columns=['c1','c2'])\n",
    "mydf1"
   ]
  },
  {
   "cell_type": "code",
   "execution_count": 25,
   "id": "dbb3f43d",
   "metadata": {},
   "outputs": [],
   "source": [
    "# changing the dimensions and appending th values"
   ]
  },
  {
   "cell_type": "code",
   "execution_count": 26,
   "id": "89f57d66",
   "metadata": {
    "scrolled": true
   },
   "outputs": [
    {
     "data": {
      "text/plain": [
       "array([['maths', 'science', 'social', 'linear algebra',\n",
       "        'differencial calculus'],\n",
       "       ['network', 'algorithms', 'machine learning', 'quantum phisics',\n",
       "        'solid dynamics']], dtype='<U21')"
      ]
     },
     "execution_count": 26,
     "metadata": {},
     "output_type": "execute_result"
    }
   ],
   "source": [
    "learning = np.append(arr = subjects.reshape(2,3) , values = topics , axis=1)\n",
    "learning"
   ]
  },
  {
   "cell_type": "code",
   "execution_count": 27,
   "id": "853a4dab",
   "metadata": {},
   "outputs": [
    {
     "data": {
      "text/html": [
       "<div>\n",
       "<style scoped>\n",
       "    .dataframe tbody tr th:only-of-type {\n",
       "        vertical-align: middle;\n",
       "    }\n",
       "\n",
       "    .dataframe tbody tr th {\n",
       "        vertical-align: top;\n",
       "    }\n",
       "\n",
       "    .dataframe thead th {\n",
       "        text-align: right;\n",
       "    }\n",
       "</style>\n",
       "<table border=\"1\" class=\"dataframe\">\n",
       "  <thead>\n",
       "    <tr style=\"text-align: right;\">\n",
       "      <th></th>\n",
       "      <th>c1</th>\n",
       "      <th>c2</th>\n",
       "      <th>c3</th>\n",
       "      <th>c4</th>\n",
       "      <th>c5</th>\n",
       "    </tr>\n",
       "  </thead>\n",
       "  <tbody>\n",
       "    <tr>\n",
       "      <th>r1</th>\n",
       "      <td>maths</td>\n",
       "      <td>science</td>\n",
       "      <td>social</td>\n",
       "      <td>linear algebra</td>\n",
       "      <td>differencial calculus</td>\n",
       "    </tr>\n",
       "    <tr>\n",
       "      <th>r2</th>\n",
       "      <td>network</td>\n",
       "      <td>algorithms</td>\n",
       "      <td>machine learning</td>\n",
       "      <td>quantum phisics</td>\n",
       "      <td>solid dynamics</td>\n",
       "    </tr>\n",
       "  </tbody>\n",
       "</table>\n",
       "</div>"
      ],
      "text/plain": [
       "         c1          c2                c3               c4  \\\n",
       "r1    maths     science            social   linear algebra   \n",
       "r2  network  algorithms  machine learning  quantum phisics   \n",
       "\n",
       "                       c5  \n",
       "r1  differencial calculus  \n",
       "r2         solid dynamics  "
      ]
     },
     "execution_count": 27,
     "metadata": {},
     "output_type": "execute_result"
    }
   ],
   "source": [
    "mydf2 = pd.DataFrame(data = learning, index=['r1','r2'],columns=['c1','c2','c3','c4','c5'])\n",
    "mydf2"
   ]
  },
  {
   "cell_type": "code",
   "execution_count": 28,
   "id": "efe66f26",
   "metadata": {},
   "outputs": [],
   "source": [
    "# trying to change it to 1 row and 10 columns"
   ]
  },
  {
   "cell_type": "code",
   "execution_count": 29,
   "id": "2f1c0e42",
   "metadata": {},
   "outputs": [
    {
     "data": {
      "text/plain": [
       "array([['maths', 'science', 'social', 'network', 'algorithms',\n",
       "        'machine learning']], dtype='<U16')"
      ]
     },
     "execution_count": 29,
     "metadata": {},
     "output_type": "execute_result"
    }
   ],
   "source": [
    "subjects.reshape(1,6)"
   ]
  },
  {
   "cell_type": "code",
   "execution_count": 30,
   "id": "18ee24ff",
   "metadata": {},
   "outputs": [
    {
     "data": {
      "text/plain": [
       "array([['linear algebra', 'differencial calculus', 'quantum phisics',\n",
       "        'solid dynamics']], dtype='<U21')"
      ]
     },
     "execution_count": 30,
     "metadata": {},
     "output_type": "execute_result"
    }
   ],
   "source": [
    "topics.reshape(1,4)"
   ]
  },
  {
   "cell_type": "code",
   "execution_count": 31,
   "id": "d72e2868",
   "metadata": {},
   "outputs": [
    {
     "data": {
      "text/plain": [
       "array([['maths', 'science', 'social', 'network', 'algorithms',\n",
       "        'machine learning', 'linear algebra', 'differencial calculus',\n",
       "        'quantum phisics', 'solid dynamics']], dtype='<U21')"
      ]
     },
     "execution_count": 31,
     "metadata": {},
     "output_type": "execute_result"
    }
   ],
   "source": [
    "learning = np.append(arr=subjects.reshape(1,6) , values=topics.reshape(1,4) ,  axis=1)\n",
    "learning"
   ]
  },
  {
   "cell_type": "code",
   "execution_count": 32,
   "id": "31f56913",
   "metadata": {},
   "outputs": [
    {
     "data": {
      "text/html": [
       "<div>\n",
       "<style scoped>\n",
       "    .dataframe tbody tr th:only-of-type {\n",
       "        vertical-align: middle;\n",
       "    }\n",
       "\n",
       "    .dataframe tbody tr th {\n",
       "        vertical-align: top;\n",
       "    }\n",
       "\n",
       "    .dataframe thead th {\n",
       "        text-align: right;\n",
       "    }\n",
       "</style>\n",
       "<table border=\"1\" class=\"dataframe\">\n",
       "  <thead>\n",
       "    <tr style=\"text-align: right;\">\n",
       "      <th></th>\n",
       "      <th>c1</th>\n",
       "      <th>c2</th>\n",
       "      <th>c3</th>\n",
       "      <th>c4</th>\n",
       "      <th>c5</th>\n",
       "      <th>c6</th>\n",
       "      <th>c7</th>\n",
       "      <th>c8</th>\n",
       "      <th>c9</th>\n",
       "      <th>c10</th>\n",
       "    </tr>\n",
       "  </thead>\n",
       "  <tbody>\n",
       "    <tr>\n",
       "      <th>r1</th>\n",
       "      <td>maths</td>\n",
       "      <td>science</td>\n",
       "      <td>social</td>\n",
       "      <td>network</td>\n",
       "      <td>algorithms</td>\n",
       "      <td>machine learning</td>\n",
       "      <td>linear algebra</td>\n",
       "      <td>differencial calculus</td>\n",
       "      <td>quantum phisics</td>\n",
       "      <td>solid dynamics</td>\n",
       "    </tr>\n",
       "  </tbody>\n",
       "</table>\n",
       "</div>"
      ],
      "text/plain": [
       "       c1       c2      c3       c4          c5                c6  \\\n",
       "r1  maths  science  social  network  algorithms  machine learning   \n",
       "\n",
       "                c7                     c8               c9             c10  \n",
       "r1  linear algebra  differencial calculus  quantum phisics  solid dynamics  "
      ]
     },
     "execution_count": 32,
     "metadata": {},
     "output_type": "execute_result"
    }
   ],
   "source": [
    "mydf3 = pd.DataFrame(data = learning , index = ['r1'] , columns= ['c1','c2','c3','c4','c5','c6','c7','c8','c9','c10'])\n",
    "mydf3"
   ]
  },
  {
   "cell_type": "code",
   "execution_count": 33,
   "id": "70beb815",
   "metadata": {},
   "outputs": [],
   "source": [
    "# concatinate "
   ]
  },
  {
   "cell_type": "code",
   "execution_count": 34,
   "id": "06d77fa4",
   "metadata": {},
   "outputs": [
    {
     "data": {
      "text/plain": [
       "array([1, 2, 3, 4, 5, 6, 7, 8])"
      ]
     },
     "execution_count": 34,
     "metadata": {},
     "output_type": "execute_result"
    }
   ],
   "source": [
    "x = np.array([1,2,3,4])\n",
    "y = np.array([5,6,7,8])\n",
    "myxandy = np.concatenate([x,y])\n",
    "myxandy"
   ]
  },
  {
   "cell_type": "code",
   "execution_count": 35,
   "id": "851582e2",
   "metadata": {},
   "outputs": [
    {
     "data": {
      "text/plain": [
       "array([1, 2, 3, 4, 5, 6, 7, 8])"
      ]
     },
     "execution_count": 35,
     "metadata": {},
     "output_type": "execute_result"
    }
   ],
   "source": [
    "myxny1 = np.append(arr = x , values= y , axis=0)\n",
    "myxny1"
   ]
  },
  {
   "cell_type": "code",
   "execution_count": 36,
   "id": "ed3b63e6",
   "metadata": {},
   "outputs": [],
   "source": [
    "# slicing"
   ]
  },
  {
   "cell_type": "code",
   "execution_count": 37,
   "id": "55b11159",
   "metadata": {},
   "outputs": [
    {
     "data": {
      "text/plain": [
       "array([2, 4])"
      ]
     },
     "execution_count": 37,
     "metadata": {},
     "output_type": "execute_result"
    }
   ],
   "source": [
    "myxandy[1:5:2] # first value is included but last value is excluded"
   ]
  },
  {
   "cell_type": "code",
   "execution_count": 38,
   "id": "3a351b95",
   "metadata": {},
   "outputs": [
    {
     "data": {
      "text/plain": [
       "array([4, 6])"
      ]
     },
     "execution_count": 38,
     "metadata": {},
     "output_type": "execute_result"
    }
   ],
   "source": [
    "myxandy[3:7:2]"
   ]
  },
  {
   "cell_type": "code",
   "execution_count": 39,
   "id": "a9244e88",
   "metadata": {},
   "outputs": [
    {
     "data": {
      "text/plain": [
       "array([ 1,  2,  3,  4,  5,  6,  7,  8,  9, 10, 11, 12, 13, 14, 15, 16, 17,\n",
       "       18, 19, 20])"
      ]
     },
     "execution_count": 39,
     "metadata": {},
     "output_type": "execute_result"
    }
   ],
   "source": [
    "mynums = np.arange(1,21)\n",
    "mynums"
   ]
  },
  {
   "cell_type": "code",
   "execution_count": 40,
   "id": "f32e0f2b",
   "metadata": {},
   "outputs": [
    {
     "data": {
      "text/plain": [
       "array([[ 1,  2,  3,  4,  5],\n",
       "       [ 6,  7,  8,  9, 10],\n",
       "       [11, 12, 13, 14, 15],\n",
       "       [16, 17, 18, 19, 20]])"
      ]
     },
     "execution_count": 40,
     "metadata": {},
     "output_type": "execute_result"
    }
   ],
   "source": [
    "mynums1 = mynums.reshape(4,5)\n",
    "mynums1"
   ]
  },
  {
   "cell_type": "code",
   "execution_count": 41,
   "id": "0cce268c",
   "metadata": {},
   "outputs": [
    {
     "data": {
      "text/plain": [
       "array([[ 1,  2],\n",
       "       [ 6,  7],\n",
       "       [11, 12]])"
      ]
     },
     "execution_count": 41,
     "metadata": {},
     "output_type": "execute_result"
    }
   ],
   "source": [
    "mynums1[0:3,0:2] #[columns , row]"
   ]
  },
  {
   "cell_type": "code",
   "execution_count": 42,
   "id": "1f840c3e",
   "metadata": {},
   "outputs": [
    {
     "data": {
      "text/plain": [
       "array([[12, 14, 16, 18],\n",
       "       [20, 22, 24, 26],\n",
       "       [28, 30, 32, 34],\n",
       "       [36, 38, 40, 42],\n",
       "       [44, 46, 48, 50],\n",
       "       [52, 54, 56, 58]])"
      ]
     },
     "execution_count": 42,
     "metadata": {},
     "output_type": "execute_result"
    }
   ],
   "source": [
    "mynums2 = np.arange(12,60,2)\n",
    "mynums2 = mynums2.reshape(6,4)\n",
    "mynums2"
   ]
  },
  {
   "cell_type": "code",
   "execution_count": 43,
   "id": "3cb585c5",
   "metadata": {},
   "outputs": [
    {
     "data": {
      "text/plain": [
       "array([[12],\n",
       "       [28],\n",
       "       [44]])"
      ]
     },
     "execution_count": 43,
     "metadata": {},
     "output_type": "execute_result"
    }
   ],
   "source": [
    "mynums2[0:6:2,0:1]"
   ]
  },
  {
   "cell_type": "code",
   "execution_count": 44,
   "id": "7a2ed866",
   "metadata": {},
   "outputs": [],
   "source": [
    "# dictonaries"
   ]
  },
  {
   "cell_type": "code",
   "execution_count": 45,
   "id": "3c091c24",
   "metadata": {},
   "outputs": [
    {
     "data": {
      "text/plain": [
       "'Kathmandu'"
      ]
     },
     "execution_count": 45,
     "metadata": {},
     "output_type": "execute_result"
    }
   ],
   "source": [
    "mydict = {\"Nepal\": \"Kathmandu\", \"Italy\": \"Rome\", \"England\": \"London\"}\n",
    "mydict['Nepal']"
   ]
  },
  {
   "cell_type": "code",
   "execution_count": 47,
   "id": "5fd4b206",
   "metadata": {},
   "outputs": [],
   "source": [
    "# importing a python file and executing a function from that file\n",
    "# importing main.py file and executing youtube() function\n",
    "\n",
    "import main as mn\n",
    "mn.youtube()"
   ]
  },
  {
   "cell_type": "code",
   "execution_count": null,
   "id": "d8cf96cf",
   "metadata": {},
   "outputs": [],
   "source": []
  }
 ],
 "metadata": {
  "kernelspec": {
   "display_name": "Python 3 (ipykernel)",
   "language": "python",
   "name": "python3"
  },
  "language_info": {
   "codemirror_mode": {
    "name": "ipython",
    "version": 3
   },
   "file_extension": ".py",
   "mimetype": "text/x-python",
   "name": "python",
   "nbconvert_exporter": "python",
   "pygments_lexer": "ipython3",
   "version": "3.9.5"
  }
 },
 "nbformat": 4,
 "nbformat_minor": 5
}
