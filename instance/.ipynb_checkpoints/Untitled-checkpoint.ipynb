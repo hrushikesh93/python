{
 "cells": [
  {
   "cell_type": "code",
   "execution_count": 1,
   "id": "64eacdbc",
   "metadata": {},
   "outputs": [],
   "source": [
    "import numpy as np\n",
    "\n",
    "a= np.array([[13,63,4],[23,3,41]])"
   ]
  },
  {
   "cell_type": "code",
   "execution_count": 2,
   "id": "c19bc347",
   "metadata": {},
   "outputs": [
    {
     "data": {
      "text/plain": [
       "6"
      ]
     },
     "execution_count": 2,
     "metadata": {},
     "output_type": "execute_result"
    }
   ],
   "source": [
    "a.size"
   ]
  },
  {
   "cell_type": "code",
   "execution_count": 3,
   "id": "731cf178",
   "metadata": {},
   "outputs": [
    {
     "data": {
      "text/plain": [
       "2"
      ]
     },
     "execution_count": 3,
     "metadata": {},
     "output_type": "execute_result"
    }
   ],
   "source": [
    "a.ndim"
   ]
  },
  {
   "cell_type": "code",
   "execution_count": 4,
   "id": "055e7ccc",
   "metadata": {},
   "outputs": [
    {
     "data": {
      "text/plain": [
       "(2, 3)"
      ]
     },
     "execution_count": 4,
     "metadata": {},
     "output_type": "execute_result"
    }
   ],
   "source": [
    "a.shape"
   ]
  },
  {
   "cell_type": "code",
   "execution_count": 5,
   "id": "29130e90",
   "metadata": {},
   "outputs": [
    {
     "data": {
      "text/plain": [
       "array([[13, 63,  4],\n",
       "       [23,  3, 41]])"
      ]
     },
     "execution_count": 5,
     "metadata": {},
     "output_type": "execute_result"
    }
   ],
   "source": [
    "a"
   ]
  },
  {
   "cell_type": "code",
   "execution_count": 6,
   "id": "50378721",
   "metadata": {},
   "outputs": [],
   "source": [
    "import pandas as pd"
   ]
  },
  {
   "cell_type": "code",
   "execution_count": 7,
   "id": "8c81907c",
   "metadata": {},
   "outputs": [
    {
     "data": {
      "text/html": [
       "<div>\n",
       "<style scoped>\n",
       "    .dataframe tbody tr th:only-of-type {\n",
       "        vertical-align: middle;\n",
       "    }\n",
       "\n",
       "    .dataframe tbody tr th {\n",
       "        vertical-align: top;\n",
       "    }\n",
       "\n",
       "    .dataframe thead th {\n",
       "        text-align: right;\n",
       "    }\n",
       "</style>\n",
       "<table border=\"1\" class=\"dataframe\">\n",
       "  <thead>\n",
       "    <tr style=\"text-align: right;\">\n",
       "      <th></th>\n",
       "      <th>0</th>\n",
       "      <th>1</th>\n",
       "      <th>2</th>\n",
       "    </tr>\n",
       "  </thead>\n",
       "  <tbody>\n",
       "    <tr>\n",
       "      <th>0</th>\n",
       "      <td>13</td>\n",
       "      <td>63</td>\n",
       "      <td>4</td>\n",
       "    </tr>\n",
       "    <tr>\n",
       "      <th>1</th>\n",
       "      <td>23</td>\n",
       "      <td>3</td>\n",
       "      <td>41</td>\n",
       "    </tr>\n",
       "  </tbody>\n",
       "</table>\n",
       "</div>"
      ],
      "text/plain": [
       "    0   1   2\n",
       "0  13  63   4\n",
       "1  23   3  41"
      ]
     },
     "execution_count": 7,
     "metadata": {},
     "output_type": "execute_result"
    }
   ],
   "source": [
    "pd.DataFrame(a)"
   ]
  },
  {
   "cell_type": "code",
   "execution_count": 8,
   "id": "b86bc9f2",
   "metadata": {},
   "outputs": [
    {
     "data": {
      "text/plain": [
       "1"
      ]
     },
     "execution_count": 8,
     "metadata": {},
     "output_type": "execute_result"
    }
   ],
   "source": [
    "np.argmax(a)"
   ]
  },
  {
   "cell_type": "code",
   "execution_count": 9,
   "id": "a5421659",
   "metadata": {},
   "outputs": [
    {
     "data": {
      "text/plain": [
       "4"
      ]
     },
     "execution_count": 9,
     "metadata": {},
     "output_type": "execute_result"
    }
   ],
   "source": [
    "np.argmin(a)"
   ]
  },
  {
   "cell_type": "code",
   "execution_count": 10,
   "id": "06b2fc04",
   "metadata": {},
   "outputs": [
    {
     "data": {
      "text/plain": [
       "1024"
      ]
     },
     "execution_count": 10,
     "metadata": {},
     "output_type": "execute_result"
    }
   ],
   "source": [
    "a = lambda c:c**10\n",
    "a(2)"
   ]
  },
  {
   "cell_type": "markdown",
   "id": "cfabd9d7",
   "metadata": {},
   "source": [
    "### list "
   ]
  },
  {
   "cell_type": "code",
   "execution_count": 32,
   "id": "539d3600",
   "metadata": {},
   "outputs": [],
   "source": [
    "name = \"hrushikesha\""
   ]
  },
  {
   "cell_type": "code",
   "execution_count": 33,
   "id": "cde7fa1c",
   "metadata": {},
   "outputs": [],
   "source": [
    "name = list(name)"
   ]
  },
  {
   "cell_type": "code",
   "execution_count": 34,
   "id": "0c5adc7d",
   "metadata": {},
   "outputs": [
    {
     "data": {
      "text/plain": [
       "['h', 'r', 'u', 's', 'h', 'i', 'k', 'e', 's', 'h', 'a']"
      ]
     },
     "execution_count": 34,
     "metadata": {},
     "output_type": "execute_result"
    }
   ],
   "source": [
    "name"
   ]
  },
  {
   "cell_type": "code",
   "execution_count": 35,
   "id": "818f1de1",
   "metadata": {},
   "outputs": [
    {
     "data": {
      "text/plain": [
       "'hrushikesha'"
      ]
     },
     "execution_count": 35,
     "metadata": {},
     "output_type": "execute_result"
    }
   ],
   "source": [
    "''.join(name)"
   ]
  },
  {
   "cell_type": "code",
   "execution_count": 36,
   "id": "00f167a5",
   "metadata": {},
   "outputs": [
    {
     "data": {
      "text/plain": [
       "['h', 'r', 'u', 's', 'h', 'i', 'k', 'e', 's', 'h', 'a', 3]"
      ]
     },
     "execution_count": 36,
     "metadata": {},
     "output_type": "execute_result"
    }
   ],
   "source": [
    "name.append(3)\n",
    "name"
   ]
  },
  {
   "cell_type": "code",
   "execution_count": 37,
   "id": "3c323934",
   "metadata": {},
   "outputs": [
    {
     "data": {
      "text/plain": [
       "['h', 2, 'r', 'u', 's', 'h', 'i', 'k', 'e', 's', 'h', 'a', 3]"
      ]
     },
     "execution_count": 37,
     "metadata": {},
     "output_type": "execute_result"
    }
   ],
   "source": [
    "name.insert(1,2)\n",
    "name"
   ]
  },
  {
   "cell_type": "code",
   "execution_count": 38,
   "id": "f45225d9",
   "metadata": {},
   "outputs": [
    {
     "data": {
      "text/plain": [
       "'u'"
      ]
     },
     "execution_count": 38,
     "metadata": {},
     "output_type": "execute_result"
    }
   ],
   "source": [
    "name.pop(3)"
   ]
  },
  {
   "cell_type": "markdown",
   "id": "d735b3e0",
   "metadata": {},
   "source": [
    "### set"
   ]
  },
  {
   "cell_type": "code",
   "execution_count": 18,
   "id": "493e1069",
   "metadata": {},
   "outputs": [],
   "source": [
    "name = {2,'h',8,9,0,7,5,3,'a'}"
   ]
  },
  {
   "cell_type": "code",
   "execution_count": 19,
   "id": "16d8b835",
   "metadata": {},
   "outputs": [
    {
     "data": {
      "text/plain": [
       "{0, 2, 3, 5, 7, 8, 9, 'a', 'h'}"
      ]
     },
     "execution_count": 19,
     "metadata": {},
     "output_type": "execute_result"
    }
   ],
   "source": [
    "name"
   ]
  },
  {
   "cell_type": "code",
   "execution_count": 20,
   "id": "c3c025fd",
   "metadata": {},
   "outputs": [],
   "source": [
    "name.add(1)\n",
    "name.add(8)"
   ]
  },
  {
   "cell_type": "code",
   "execution_count": 21,
   "id": "a47d1a07",
   "metadata": {},
   "outputs": [
    {
     "data": {
      "text/plain": [
       "{0, 1, 2, 3, 5, 7, 8, 9, 'a', 'h'}"
      ]
     },
     "execution_count": 21,
     "metadata": {},
     "output_type": "execute_result"
    }
   ],
   "source": [
    "name"
   ]
  },
  {
   "cell_type": "code",
   "execution_count": 22,
   "id": "56f0415c",
   "metadata": {},
   "outputs": [
    {
     "data": {
      "text/plain": [
       "{1, 2, 3, 5, 7, 8, 9, 'a', 'h'}"
      ]
     },
     "execution_count": 22,
     "metadata": {},
     "output_type": "execute_result"
    }
   ],
   "source": [
    "name.pop()\n",
    "name"
   ]
  },
  {
   "cell_type": "markdown",
   "id": "6ecf78c8",
   "metadata": {},
   "source": [
    "### prime numbers"
   ]
  },
  {
   "cell_type": "code",
   "execution_count": 23,
   "id": "5c9e7d09",
   "metadata": {},
   "outputs": [],
   "source": [
    "# def isprime(x):\n",
    "#     if(x==0 or x==1):\n",
    "#         return False\n",
    "#     for i in range(2,(x//2)+1):\n",
    "#         if x%i == 0:\n",
    "#             return False\n",
    "#     return True\n",
    "\n",
    "# n=int(input())\n",
    "\n",
    "# for x in range(1,n+1):\n",
    "#     if (isprime(x)):\n",
    "#         print(x,end=\" \")"
   ]
  },
  {
   "cell_type": "markdown",
   "id": "159c3c23",
   "metadata": {},
   "source": [
    "### map funtion "
   ]
  },
  {
   "cell_type": "code",
   "execution_count": 24,
   "id": "ff2d979a",
   "metadata": {},
   "outputs": [
    {
     "name": "stdout",
     "output_type": "stream",
     "text": [
      "[2, 4, 6, 8]\n"
     ]
    }
   ],
   "source": [
    "numbers = [1, 2, 3, 4]\n",
    "result = map(lambda x: x + x, numbers)\n",
    "print(list(result))"
   ]
  },
  {
   "cell_type": "code",
   "execution_count": 25,
   "id": "d8f6455d",
   "metadata": {},
   "outputs": [
    {
     "name": "stdout",
     "output_type": "stream",
     "text": [
      "[2, 4, 6, 8]\n"
     ]
    }
   ],
   "source": [
    "def addition(n):\n",
    "    return n + n\n",
    "\n",
    "numbers = (1, 2, 3, 4)\n",
    "result = map(addition, numbers)\n",
    "print(list(result))"
   ]
  },
  {
   "cell_type": "markdown",
   "id": "c8b317c1",
   "metadata": {},
   "source": [
    "### dictionary"
   ]
  },
  {
   "cell_type": "code",
   "execution_count": 26,
   "id": "9b6ab13a",
   "metadata": {},
   "outputs": [],
   "source": [
    "name = {'hrushi':74,'kesh':23}"
   ]
  },
  {
   "cell_type": "code",
   "execution_count": 27,
   "id": "fe703b6e",
   "metadata": {},
   "outputs": [
    {
     "data": {
      "text/plain": [
       "{'hrushi': 74, 'kesh': 23}"
      ]
     },
     "execution_count": 27,
     "metadata": {},
     "output_type": "execute_result"
    }
   ],
   "source": [
    "name"
   ]
  },
  {
   "cell_type": "code",
   "execution_count": 28,
   "id": "b385f489",
   "metadata": {},
   "outputs": [
    {
     "data": {
      "text/plain": [
       "74"
      ]
     },
     "execution_count": 28,
     "metadata": {},
     "output_type": "execute_result"
    }
   ],
   "source": [
    "name['hrushi']"
   ]
  },
  {
   "cell_type": "code",
   "execution_count": 29,
   "id": "ad3d0504",
   "metadata": {},
   "outputs": [],
   "source": [
    "name['puttu'] = 74"
   ]
  },
  {
   "cell_type": "code",
   "execution_count": 30,
   "id": "a22fe113",
   "metadata": {},
   "outputs": [
    {
     "data": {
      "text/plain": [
       "{'hrushi': 74, 'kesh': 23, 'puttu': 74}"
      ]
     },
     "execution_count": 30,
     "metadata": {},
     "output_type": "execute_result"
    }
   ],
   "source": [
    "name"
   ]
  },
  {
   "cell_type": "markdown",
   "id": "6ae9c0ab",
   "metadata": {},
   "source": [
    "### "
   ]
  }
 ],
 "metadata": {
  "kernelspec": {
   "display_name": "Python 3 (ipykernel)",
   "language": "python",
   "name": "python3"
  },
  "language_info": {
   "codemirror_mode": {
    "name": "ipython",
    "version": 3
   },
   "file_extension": ".py",
   "mimetype": "text/x-python",
   "name": "python",
   "nbconvert_exporter": "python",
   "pygments_lexer": "ipython3",
   "version": "3.9.5"
  }
 },
 "nbformat": 4,
 "nbformat_minor": 5
}
