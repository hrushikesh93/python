{
 "cells": [
  {
   "cell_type": "code",
   "execution_count": 1,
   "id": "7fb8e076",
   "metadata": {},
   "outputs": [],
   "source": [
    "import numpy as np\n",
    "rn = list(np.random.randint(1,200,10))"
   ]
  },
  {
   "cell_type": "code",
   "execution_count": 2,
   "id": "06c59b68",
   "metadata": {},
   "outputs": [
    {
     "data": {
      "text/plain": [
       "[17, 87, 90, 186, 85, 122, 60, 94, 198, 139]"
      ]
     },
     "execution_count": 2,
     "metadata": {},
     "output_type": "execute_result"
    }
   ],
   "source": [
    "rn"
   ]
  },
  {
   "cell_type": "code",
   "execution_count": 4,
   "id": "91c02fc3",
   "metadata": {},
   "outputs": [
    {
     "data": {
      "text/plain": [
       "list"
      ]
     },
     "execution_count": 4,
     "metadata": {},
     "output_type": "execute_result"
    }
   ],
   "source": [
    "type(rn)"
   ]
  },
  {
   "cell_type": "code",
   "execution_count": 5,
   "id": "4fa3c3c2",
   "metadata": {},
   "outputs": [
    {
     "data": {
      "text/plain": [
       "10"
      ]
     },
     "execution_count": 5,
     "metadata": {},
     "output_type": "execute_result"
    }
   ],
   "source": [
    "len(rn)"
   ]
  },
  {
   "cell_type": "code",
   "execution_count": 9,
   "id": "ac5963de",
   "metadata": {},
   "outputs": [
    {
     "data": {
      "text/plain": [
       "[17, 60, 85, 87, 90, 94, 122, 139, 186, 198]"
      ]
     },
     "execution_count": 9,
     "metadata": {},
     "output_type": "execute_result"
    }
   ],
   "source": [
    "#Ascending order\n",
    "asc=sorted(rn)\n",
    "asc"
   ]
  },
  {
   "cell_type": "code",
   "execution_count": 10,
   "id": "0a40bf45",
   "metadata": {},
   "outputs": [
    {
     "data": {
      "text/plain": [
       "[198, 186, 139, 122, 94, 90, 87, 85, 60, 17]"
      ]
     },
     "execution_count": 10,
     "metadata": {},
     "output_type": "execute_result"
    }
   ],
   "source": [
    "#descending order\n",
    "asc[::-1]"
   ]
  },
  {
   "cell_type": "code",
   "execution_count": null,
   "id": "43950b2e",
   "metadata": {},
   "outputs": [],
   "source": [
    "\n",
    "\n",
    "\n",
    "\n"
   ]
  },
  {
   "cell_type": "markdown",
   "id": "b6ac15e9",
   "metadata": {},
   "source": [
    "### 2nd program"
   ]
  },
  {
   "cell_type": "code",
   "execution_count": 11,
   "id": "63e0422b",
   "metadata": {},
   "outputs": [],
   "source": [
    "import numpy as np\n",
    "import pandas as pd\n",
    "arr = np.random.randint(1,300,100)"
   ]
  },
  {
   "cell_type": "code",
   "execution_count": 12,
   "id": "fa616bb5",
   "metadata": {},
   "outputs": [
    {
     "data": {
      "text/plain": [
       "array([ 14,  62, 155, 242, 168, 138, 220, 255, 122,  33,  84, 188, 143,\n",
       "       168, 117, 233, 280, 262, 102,   6, 178, 282, 176, 138,  31,  11,\n",
       "        85, 264, 140, 170, 213, 222, 126, 272, 195, 230,  60, 104,  91,\n",
       "        15, 196,  29, 264,  78,  22,  93, 110,   7,   2,  92, 115,  93,\n",
       "       217, 218, 226, 267, 208,  24, 145, 285, 160, 262,  89, 263,  97,\n",
       "       167, 188, 239, 102,  74, 170,   1, 178, 272, 264, 237, 194, 280,\n",
       "       277, 118,  82, 294, 256, 213, 245, 271,  40, 193, 263,  34,  26,\n",
       "        36, 226,  28, 156, 190, 241, 144,  74, 129])"
      ]
     },
     "execution_count": 12,
     "metadata": {},
     "output_type": "execute_result"
    }
   ],
   "source": [
    "arr"
   ]
  },
  {
   "cell_type": "code",
   "execution_count": 16,
   "id": "e5c3ac65",
   "metadata": {},
   "outputs": [],
   "source": [
    "arr = arr.reshape(10,10)"
   ]
  },
  {
   "cell_type": "code",
   "execution_count": 17,
   "id": "d22c5ffd",
   "metadata": {},
   "outputs": [],
   "source": [
    "df = pd.DataFrame(arr)"
   ]
  },
  {
   "cell_type": "code",
   "execution_count": 18,
   "id": "b3d029ca",
   "metadata": {},
   "outputs": [
    {
     "data": {
      "text/html": [
       "<div>\n",
       "<style scoped>\n",
       "    .dataframe tbody tr th:only-of-type {\n",
       "        vertical-align: middle;\n",
       "    }\n",
       "\n",
       "    .dataframe tbody tr th {\n",
       "        vertical-align: top;\n",
       "    }\n",
       "\n",
       "    .dataframe thead th {\n",
       "        text-align: right;\n",
       "    }\n",
       "</style>\n",
       "<table border=\"1\" class=\"dataframe\">\n",
       "  <thead>\n",
       "    <tr style=\"text-align: right;\">\n",
       "      <th></th>\n",
       "      <th>0</th>\n",
       "      <th>1</th>\n",
       "      <th>2</th>\n",
       "      <th>3</th>\n",
       "      <th>4</th>\n",
       "      <th>5</th>\n",
       "      <th>6</th>\n",
       "      <th>7</th>\n",
       "      <th>8</th>\n",
       "      <th>9</th>\n",
       "    </tr>\n",
       "  </thead>\n",
       "  <tbody>\n",
       "    <tr>\n",
       "      <th>0</th>\n",
       "      <td>14</td>\n",
       "      <td>62</td>\n",
       "      <td>155</td>\n",
       "      <td>242</td>\n",
       "      <td>168</td>\n",
       "      <td>138</td>\n",
       "      <td>220</td>\n",
       "      <td>255</td>\n",
       "      <td>122</td>\n",
       "      <td>33</td>\n",
       "    </tr>\n",
       "    <tr>\n",
       "      <th>1</th>\n",
       "      <td>84</td>\n",
       "      <td>188</td>\n",
       "      <td>143</td>\n",
       "      <td>168</td>\n",
       "      <td>117</td>\n",
       "      <td>233</td>\n",
       "      <td>280</td>\n",
       "      <td>262</td>\n",
       "      <td>102</td>\n",
       "      <td>6</td>\n",
       "    </tr>\n",
       "    <tr>\n",
       "      <th>2</th>\n",
       "      <td>178</td>\n",
       "      <td>282</td>\n",
       "      <td>176</td>\n",
       "      <td>138</td>\n",
       "      <td>31</td>\n",
       "      <td>11</td>\n",
       "      <td>85</td>\n",
       "      <td>264</td>\n",
       "      <td>140</td>\n",
       "      <td>170</td>\n",
       "    </tr>\n",
       "    <tr>\n",
       "      <th>3</th>\n",
       "      <td>213</td>\n",
       "      <td>222</td>\n",
       "      <td>126</td>\n",
       "      <td>272</td>\n",
       "      <td>195</td>\n",
       "      <td>230</td>\n",
       "      <td>60</td>\n",
       "      <td>104</td>\n",
       "      <td>91</td>\n",
       "      <td>15</td>\n",
       "    </tr>\n",
       "    <tr>\n",
       "      <th>4</th>\n",
       "      <td>196</td>\n",
       "      <td>29</td>\n",
       "      <td>264</td>\n",
       "      <td>78</td>\n",
       "      <td>22</td>\n",
       "      <td>93</td>\n",
       "      <td>110</td>\n",
       "      <td>7</td>\n",
       "      <td>2</td>\n",
       "      <td>92</td>\n",
       "    </tr>\n",
       "    <tr>\n",
       "      <th>5</th>\n",
       "      <td>115</td>\n",
       "      <td>93</td>\n",
       "      <td>217</td>\n",
       "      <td>218</td>\n",
       "      <td>226</td>\n",
       "      <td>267</td>\n",
       "      <td>208</td>\n",
       "      <td>24</td>\n",
       "      <td>145</td>\n",
       "      <td>285</td>\n",
       "    </tr>\n",
       "    <tr>\n",
       "      <th>6</th>\n",
       "      <td>160</td>\n",
       "      <td>262</td>\n",
       "      <td>89</td>\n",
       "      <td>263</td>\n",
       "      <td>97</td>\n",
       "      <td>167</td>\n",
       "      <td>188</td>\n",
       "      <td>239</td>\n",
       "      <td>102</td>\n",
       "      <td>74</td>\n",
       "    </tr>\n",
       "    <tr>\n",
       "      <th>7</th>\n",
       "      <td>170</td>\n",
       "      <td>1</td>\n",
       "      <td>178</td>\n",
       "      <td>272</td>\n",
       "      <td>264</td>\n",
       "      <td>237</td>\n",
       "      <td>194</td>\n",
       "      <td>280</td>\n",
       "      <td>277</td>\n",
       "      <td>118</td>\n",
       "    </tr>\n",
       "    <tr>\n",
       "      <th>8</th>\n",
       "      <td>82</td>\n",
       "      <td>294</td>\n",
       "      <td>256</td>\n",
       "      <td>213</td>\n",
       "      <td>245</td>\n",
       "      <td>271</td>\n",
       "      <td>40</td>\n",
       "      <td>193</td>\n",
       "      <td>263</td>\n",
       "      <td>34</td>\n",
       "    </tr>\n",
       "    <tr>\n",
       "      <th>9</th>\n",
       "      <td>26</td>\n",
       "      <td>36</td>\n",
       "      <td>226</td>\n",
       "      <td>28</td>\n",
       "      <td>156</td>\n",
       "      <td>190</td>\n",
       "      <td>241</td>\n",
       "      <td>144</td>\n",
       "      <td>74</td>\n",
       "      <td>129</td>\n",
       "    </tr>\n",
       "  </tbody>\n",
       "</table>\n",
       "</div>"
      ],
      "text/plain": [
       "     0    1    2    3    4    5    6    7    8    9\n",
       "0   14   62  155  242  168  138  220  255  122   33\n",
       "1   84  188  143  168  117  233  280  262  102    6\n",
       "2  178  282  176  138   31   11   85  264  140  170\n",
       "3  213  222  126  272  195  230   60  104   91   15\n",
       "4  196   29  264   78   22   93  110    7    2   92\n",
       "5  115   93  217  218  226  267  208   24  145  285\n",
       "6  160  262   89  263   97  167  188  239  102   74\n",
       "7  170    1  178  272  264  237  194  280  277  118\n",
       "8   82  294  256  213  245  271   40  193  263   34\n",
       "9   26   36  226   28  156  190  241  144   74  129"
      ]
     },
     "execution_count": 18,
     "metadata": {},
     "output_type": "execute_result"
    }
   ],
   "source": [
    "df"
   ]
  },
  {
   "cell_type": "code",
   "execution_count": null,
   "id": "0f163611",
   "metadata": {},
   "outputs": [],
   "source": []
  }
 ],
 "metadata": {
  "kernelspec": {
   "display_name": "Python 3 (ipykernel)",
   "language": "python",
   "name": "python3"
  },
  "language_info": {
   "codemirror_mode": {
    "name": "ipython",
    "version": 3
   },
   "file_extension": ".py",
   "mimetype": "text/x-python",
   "name": "python",
   "nbconvert_exporter": "python",
   "pygments_lexer": "ipython3",
   "version": "3.9.5"
  }
 },
 "nbformat": 4,
 "nbformat_minor": 5
}
