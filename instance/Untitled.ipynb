{
 "cells": [
  {
   "cell_type": "code",
   "execution_count": 1,
   "id": "64eacdbc",
   "metadata": {},
   "outputs": [],
   "source": [
    "import numpy as np\n",
    "\n",
    "a= np.array([[13,63,4],[23,3,41]])"
   ]
  },
  {
   "cell_type": "code",
   "execution_count": 2,
   "id": "c19bc347",
   "metadata": {},
   "outputs": [
    {
     "data": {
      "text/plain": [
       "6"
      ]
     },
     "execution_count": 2,
     "metadata": {},
     "output_type": "execute_result"
    }
   ],
   "source": [
    "a.size"
   ]
  },
  {
   "cell_type": "code",
   "execution_count": 3,
   "id": "731cf178",
   "metadata": {},
   "outputs": [
    {
     "data": {
      "text/plain": [
       "2"
      ]
     },
     "execution_count": 3,
     "metadata": {},
     "output_type": "execute_result"
    }
   ],
   "source": [
    "a.ndim"
   ]
  },
  {
   "cell_type": "code",
   "execution_count": 4,
   "id": "055e7ccc",
   "metadata": {},
   "outputs": [
    {
     "data": {
      "text/plain": [
       "(2, 3)"
      ]
     },
     "execution_count": 4,
     "metadata": {},
     "output_type": "execute_result"
    }
   ],
   "source": [
    "a.shape"
   ]
  },
  {
   "cell_type": "code",
   "execution_count": 5,
   "id": "29130e90",
   "metadata": {},
   "outputs": [
    {
     "data": {
      "text/plain": [
       "array([[13, 63,  4],\n",
       "       [23,  3, 41]])"
      ]
     },
     "execution_count": 5,
     "metadata": {},
     "output_type": "execute_result"
    }
   ],
   "source": [
    "a"
   ]
  },
  {
   "cell_type": "code",
   "execution_count": null,
   "id": "50378721",
   "metadata": {},
   "outputs": [],
   "source": [
    "import pandas as pd"
   ]
  },
  {
   "cell_type": "code",
   "execution_count": null,
   "id": "8c81907c",
   "metadata": {},
   "outputs": [],
   "source": [
    "pd.DataFrame(a)"
   ]
  },
  {
   "cell_type": "code",
   "execution_count": null,
   "id": "b86bc9f2",
   "metadata": {},
   "outputs": [],
   "source": [
    "np.argmax(a).index()"
   ]
  },
  {
   "cell_type": "code",
   "execution_count": null,
   "id": "a5421659",
   "metadata": {},
   "outputs": [],
   "source": [
    "np.argmin(a)"
   ]
  },
  {
   "cell_type": "code",
   "execution_count": null,
   "id": "06b2fc04",
   "metadata": {},
   "outputs": [],
   "source": [
    "a = lambda c:c**10\n",
    "a(2)"
   ]
  },
  {
   "cell_type": "markdown",
   "id": "cfabd9d7",
   "metadata": {},
   "source": [
    "### list "
   ]
  },
  {
   "cell_type": "code",
   "execution_count": null,
   "id": "539d3600",
   "metadata": {},
   "outputs": [],
   "source": [
    "name = \"hrushikesha\""
   ]
  },
  {
   "cell_type": "code",
   "execution_count": null,
   "id": "cde7fa1c",
   "metadata": {},
   "outputs": [],
   "source": [
    "name = list(name)"
   ]
  },
  {
   "cell_type": "code",
   "execution_count": null,
   "id": "0c5adc7d",
   "metadata": {},
   "outputs": [],
   "source": [
    "name"
   ]
  },
  {
   "cell_type": "code",
   "execution_count": null,
   "id": "818f1de1",
   "metadata": {},
   "outputs": [],
   "source": [
    "''.join(name)"
   ]
  },
  {
   "cell_type": "code",
   "execution_count": null,
   "id": "00f167a5",
   "metadata": {},
   "outputs": [],
   "source": [
    "name.append(3)\n",
    "name"
   ]
  },
  {
   "cell_type": "code",
   "execution_count": null,
   "id": "3c323934",
   "metadata": {},
   "outputs": [],
   "source": [
    "name.insert(1,2)\n",
    "name"
   ]
  },
  {
   "cell_type": "code",
   "execution_count": null,
   "id": "f45225d9",
   "metadata": {},
   "outputs": [],
   "source": [
    "name.pop(3)"
   ]
  },
  {
   "cell_type": "markdown",
   "id": "d735b3e0",
   "metadata": {},
   "source": [
    "### set"
   ]
  },
  {
   "cell_type": "code",
   "execution_count": null,
   "id": "493e1069",
   "metadata": {},
   "outputs": [],
   "source": [
    "name = {2,'h',8,9,0,7,5,3,'a'}"
   ]
  },
  {
   "cell_type": "code",
   "execution_count": null,
   "id": "16d8b835",
   "metadata": {},
   "outputs": [],
   "source": [
    "name"
   ]
  },
  {
   "cell_type": "code",
   "execution_count": null,
   "id": "c3c025fd",
   "metadata": {},
   "outputs": [],
   "source": [
    "name.add(1)\n",
    "name.add(8)"
   ]
  },
  {
   "cell_type": "code",
   "execution_count": null,
   "id": "a47d1a07",
   "metadata": {},
   "outputs": [],
   "source": [
    "name"
   ]
  },
  {
   "cell_type": "code",
   "execution_count": null,
   "id": "56f0415c",
   "metadata": {},
   "outputs": [],
   "source": [
    "name.pop()\n",
    "name"
   ]
  },
  {
   "cell_type": "markdown",
   "id": "6ecf78c8",
   "metadata": {},
   "source": [
    "### prime numbers"
   ]
  },
  {
   "cell_type": "code",
   "execution_count": null,
   "id": "5c9e7d09",
   "metadata": {},
   "outputs": [],
   "source": [
    "# def isprime(x):\n",
    "#     if(x==0 or x==1):\n",
    "#         return False\n",
    "#     for i in range(2,(x//2)+1):\n",
    "#         if x%i == 0:\n",
    "#             return False\n",
    "#     return True\n",
    "\n",
    "# n=int(input())\n",
    "\n",
    "# for x in range(1,n+1):\n",
    "#     if (isprime(x)):\n",
    "#         print(x,end=\" \")"
   ]
  },
  {
   "cell_type": "markdown",
   "id": "159c3c23",
   "metadata": {},
   "source": [
    "### map funtion "
   ]
  },
  {
   "cell_type": "code",
   "execution_count": null,
   "id": "ff2d979a",
   "metadata": {},
   "outputs": [],
   "source": [
    "numbers = [1, 2, 3, 4]\n",
    "result = map(lambda x: x + x, numbers)\n",
    "print(list(result))"
   ]
  },
  {
   "cell_type": "code",
   "execution_count": null,
   "id": "d8f6455d",
   "metadata": {},
   "outputs": [],
   "source": [
    "def addition(n):\n",
    "    return n + n\n",
    "\n",
    "numbers = (1, 2, 3, 4)\n",
    "result = map(addition, numbers)\n",
    "print(list(result))"
   ]
  },
  {
   "cell_type": "markdown",
   "id": "c8b317c1",
   "metadata": {},
   "source": [
    "### dictionary"
   ]
  },
  {
   "cell_type": "code",
   "execution_count": null,
   "id": "9b6ab13a",
   "metadata": {},
   "outputs": [],
   "source": [
    "name = {'hrushi':74,'kesh':23}"
   ]
  },
  {
   "cell_type": "code",
   "execution_count": null,
   "id": "fe703b6e",
   "metadata": {},
   "outputs": [],
   "source": [
    "name"
   ]
  },
  {
   "cell_type": "code",
   "execution_count": null,
   "id": "b385f489",
   "metadata": {},
   "outputs": [],
   "source": [
    "name['hrushi']"
   ]
  },
  {
   "cell_type": "code",
   "execution_count": null,
   "id": "ad3d0504",
   "metadata": {},
   "outputs": [],
   "source": [
    "name['puttu'] = 74"
   ]
  },
  {
   "cell_type": "code",
   "execution_count": null,
   "id": "a22fe113",
   "metadata": {},
   "outputs": [],
   "source": [
    "name"
   ]
  },
  {
   "cell_type": "markdown",
   "id": "6ae9c0ab",
   "metadata": {},
   "source": [
    "### "
   ]
  }
 ],
 "metadata": {
  "kernelspec": {
   "display_name": "Python 3 (ipykernel)",
   "language": "python",
   "name": "python3"
  },
  "language_info": {
   "codemirror_mode": {
    "name": "ipython",
    "version": 3
   },
   "file_extension": ".py",
   "mimetype": "text/x-python",
   "name": "python",
   "nbconvert_exporter": "python",
   "pygments_lexer": "ipython3",
   "version": "3.9.5"
  }
 },
 "nbformat": 4,
 "nbformat_minor": 5
}
